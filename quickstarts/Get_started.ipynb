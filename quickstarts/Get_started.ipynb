
        "checklist = [\"Exercise\", \"Finish project report\", \"Buy groceries\", \"Call mom\", \"Read book\"]\n",
        "\n",
         #User input for completed tasks\n",
        "# Let's assume these are the tasks marked as completed by the end of the day\n",
        "completed_input = [\"Exercise\", \"Buy groceries\", \"Call mom\"]\n",
        "\n",
        "#  Separate completed and incomplete tasks\n",
        "completed_tasks = []\n",
        "incomplete_tasks = []\n",
        "\n",
        "for task in checklist:\n",
        "    if task in completed_input:\n",
        "        completed_tasks.append(task)\n",
        "    else:\n",
        "        incomplete_tasks.append(task)\n",
        "\n",
        "# Output results\n",
        "print(\"Completed Tasks:\")\n",
        "for task in completed_tasks:\n",
        "    print(\"-\", task)\n",
        "\n",
        "print(\"\\nIncomplete Tasks:\")\n",
        "for task in incomplete_tasks:\n",
        "    print(\"-\", task)\n"
      ],
      "metadata": {
        "colab": {
          "base_uri": "https://localhost:8080/"
        },
        "id": "3sel_Q0sb1-F",
        "outputId": "388400e3-5c41-4b43-bbdf-996ce908cbdf"
      },
      "execution_count": 1,
      "outputs": [
        {
          "output_type": "stream",
          "name": "stdout",
          "text": [
            "Completed Tasks:\n",
            "- Exercise\n",
            "- Buy groceries\n",
            "- Call mom\n",
            "\n",
            "Incomplete Tasks:\n",
            "- Finish project report\n",
            "- Read book\n"
          ]
        }
      ]
    }
  ],
  "metadata": {
    "colab": {
      "name": "Get_started.ipynb",
      "provenance": []
    },
    "kernelspec": {
      "display_name": "Python 3",
      "name": "python3"
    }
  },
  "nbformat": 4,
  "nbformat_minor": 0
}
